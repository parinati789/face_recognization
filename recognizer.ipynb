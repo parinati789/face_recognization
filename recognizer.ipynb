{
 "cells": [
  {
   "cell_type": "code",
   "execution_count": null,
   "id": "9cce492e",
   "metadata": {},
   "outputs": [],
   "source": [
    "import cv2\n",
    "import numpy as np\n",
    "import os\n",
    "import pywhatkit\n",
    "\n",
    "recognizer = cv2.face_LBPHFaceRecognizer.create()\n",
    "recognizer.read('trainner/trainner.yml')\n",
    "cascadePath = r\"C:\\Users\\parin\\Downloads\\haarcascade_frontalface_default.xml\"\n",
    "faceCascade = cv2.CascadeClassifier(cascadePath);\n",
    "\n",
    "cam = cv2.VideoCapture(0)\n",
    "font = cv2.FONT_HERSHEY_SIMPLEX\n",
    "while True:\n",
    "    ret, img = cam.read()\n",
    "    gray = cv2.cvtColor(img,cv2.COLOR_BGR2GRAY)\n",
    "    faces = faceCascade.detectMultiScale(gray, 1.2,5)\n",
    "    for(x,y,w,h) in faces:\n",
    "        cv2.rectangle(img,(x,y),(x+w,y+h),(225,0,0),2)\n",
    "        Id, conf = recognizer.predict(gray[y:y+h,x:x+w])\n",
    "        print(Id)\n",
    "        if(Id==1):\n",
    "            Id =\"Shraddha\"\n",
    "            print(\"Shraddha\")\n",
    "            cv2.putText(img,Id, (x,y+h),font, 0.8, (0, 255, 0), 2, cv2.LINE_AA)      \n",
    "            os.system(\"aws ec2 run-instances --image-id ami-0ad704c126371a549 --instance-type t2.micro --count 1 --subnet-id subnet-9e9d90f6 --security-group-ids sg-0b27a7ebb807200c5 --key-name ec21 \")\n",
    "            print(\"Instance Launched\")\n",
    "            os.system(\"aws ec2 create-volume --availability-zone ap-south-1a --size 5 --volume-type gp2 --tag-specification  ResourceType=volume,Tags=[{Key=face,Value=volume}] \")\n",
    "            print(\"Volume Created\")\n",
    "            print(\"Please wait for 2 minutes instance is initializing\")\n",
    "            break\n",
    "               \n",
    "        else:\n",
    "            Id = \"sonu\"\n",
    "            print(\"sonu\")\n",
    "            \n",
    "            cv2.putText(img,Id, (x,y+h),font, 0.8, (0, 255, 0), 2, cv2.LINE_AA)\n",
    "            pywhatkit.sendwhatmsg_instantly(phone_no=\"+916376527445\",\n",
    "                                     message=\"*******ALERT******  Unknown Face Detected on your System!!!!\")\n",
    "            print(\"Unknown Face Detected on your System!!\")\n",
    "\n",
    "            pywhatkit.send_mail(\"parinatirajput@gmail.com\",\n",
    "                                    \"parinati@12\",\"*******ALERT****** Unknown Face Detected on your System!!!!\",\"\",\n",
    "                                    \"parinatithakur@outlook.com\")\n",
    "            break    \n",
    "               \n",
    "        \n",
    "            \n",
    "    cv2.imshow('im',img) \n",
    "    if cv2.waitKey(1) == 13: #13 is the Enter Key\n",
    "        break\n",
    "cam.release()\n",
    "cv2.destroyAllWindows()"
   ]
  },
  {
   "cell_type": "code",
   "execution_count": null,
   "id": "9e9f4672",
   "metadata": {},
   "outputs": [],
   "source": [
    "\n",
    "\n"
   ]
  },
  {
   "cell_type": "code",
   "execution_count": null,
   "id": "72e945bd",
   "metadata": {},
   "outputs": [],
   "source": []
  },
  {
   "cell_type": "code",
   "execution_count": null,
   "id": "ed0114c2",
   "metadata": {},
   "outputs": [],
   "source": []
  }
 ],
 "metadata": {
  "kernelspec": {
   "display_name": "Python 3",
   "language": "python",
   "name": "python3"
  },
  "language_info": {
   "codemirror_mode": {
    "name": "ipython",
    "version": 3
   },
   "file_extension": ".py",
   "mimetype": "text/x-python",
   "name": "python",
   "nbconvert_exporter": "python",
   "pygments_lexer": "ipython3",
   "version": "3.8.8"
  }
 },
 "nbformat": 4,
 "nbformat_minor": 5
}
